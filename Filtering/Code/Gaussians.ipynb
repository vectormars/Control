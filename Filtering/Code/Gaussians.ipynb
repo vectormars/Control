{
 "cells": [
  {
   "cell_type": "markdown",
   "metadata": {},
   "source": [
    "# Gaussian Probabilities"
   ]
  },
  {
   "cell_type": "markdown",
   "metadata": {},
   "source": [
    "## 1.  Mean, Variance, and Standard Deviations"
   ]
  },
  {
   "cell_type": "markdown",
   "metadata": {},
   "source": [
    "### Random Variables\n",
    "This combination of **values** and **associated probabilities** is called a **random variable**.      \n",
    "Here. random does not mean the process is nondeterministic, only that we **lack information**.     \n",
    "The result of a die toss is deterministic, but we lack enough information to compute the result. We don't know what will happen, except probabilistically.\n",
    "\n",
    "####  Sample Space (Values of RV)\n",
    "While we are defining terms, the range of values is called the **sample space**. \n",
    "* For a die the sample space is {1, 2, 3, 4, 5, 6}. \n",
    "* For a coin the sample space is {H, T}.       \n",
    "\n",
    "**Space** is a mathematical term which means a set with structure.            \n",
    "The sample space for the die is a subset of the natural numbers in the range of 1 to 6.\n",
    "\n",
    "**Note**:     \n",
    "* Do not confuse the measurement of the random variable with the actual value.     \n",
    "* In statistics capital letters are used for random variables.\n",
    "\n",
    "####  Probability Distribution (Probability of RV)\n",
    "The *probability distribution* gives the probability for the random variable to take any value in a sample space.\n",
    "\n",
    "For example, for a fair six sided die we might say:\n",
    "\n",
    "| Value | Probability |\n",
    "|-------|-------------|\n",
    "| 1     | 1/6         |\n",
    "| 2     | 1/6         |\n",
    "| 3     | 1/6         |\n",
    "| 4     | 1/6         |\n",
    "| 5     | 1/6         |\n",
    "| 6     | 1/6         |\n",
    "\n",
    "Some sources call this the probability function. Using ordinary function notation, we would write:\n",
    "\n",
    "$$P(X{=}4) = f(4) = \\frac{1}{6}$$\n",
    "This states that the probability of the die landing on 4 is $\\frac{1}{6}$. $P(X{=}x_k)$ is notation for \"the probability of $X$ being $x_k$. Some texts use $Pr$ or $Prob$ instead of $P$.\n",
    "\n",
    "Another example is a fair coin. It has the sample space {H, T}. The coin is fair, so the probability for heads (H) is 50%, and the probability for tails (T) is 50%. We write this as\n",
    "\n",
    "$$\\begin{gathered}P(X{=}H) = 0.5\\\\P(X{=}T)=0.5\\end{gathered}$$\n",
    "\n",
    "\n",
    "* The probabilities for all values of a discrete random value is known as the *discrete probability distribution* \n",
    "* The probabilities for all values of a continuous random value is known as the *continuous probability distribution*\n",
    "\n",
    "To be a probability distribution the probability of each value $x_i$ must be $x_i \\ge 0$, since no probability can be less than zero. Secondly, the sum of the probabilities for all values must equal one. This should be intuitively clear for a coin toss: if the odds of getting heads is 70%, then the odds of getting tails must be 30%. We formulize this requirement as\n",
    "\n",
    "$$\n",
    "\\sum^{}_{u} {P\\left( {X = u} \\right) = 1} \n",
    "$$\n",
    "\n",
    "for discrete distributions, and as\n",
    "\n",
    "$$\n",
    "\\int^{}_{u} P(X{=}u) \\,du= 1\n",
    "$$\n",
    "\n",
    "for continuous distributions."
   ]
  },
  {
   "cell_type": "markdown",
   "metadata": {},
   "source": [
    "### The Mean, Median, and Mode of a Random Variable\n",
    "**Mean**:"
   ]
  },
  {
   "cell_type": "markdown",
   "metadata": {},
   "source": [
    "$$ \\mu = \\frac{1}{n}\\sum^n_{i=1} x_i$$                       \n",
    "NumPy provides ```numpy.mean()``` for computing the mean."
   ]
  },
  {
   "cell_type": "code",
   "execution_count": 1,
   "metadata": {},
   "outputs": [
    {
     "name": "stdout",
     "output_type": "stream",
     "text": [
      "1.8\n"
     ]
    }
   ],
   "source": [
    "import numpy as np\n",
    "x = [1.8, 2.0, 1.7, 1.9, 1.6]\n",
    "print(np.mean(x))"
   ]
  },
  {
   "cell_type": "markdown",
   "metadata": {},
   "source": [
    "**Mode**:    \n",
    "The mode of a set of numbers is the number that *occurs most often*.      \n",
    "If only one number occurs most often we say it is a unimodal set, and if two or more numbers occur the most with equal frequency than the set is multimodal. For example the set {1, 2, 2, 2, 3, 4, 4, 4} has modes 2 and 4, which is multimodal, and the set {5, 7, 7, 13} has the mode 7, and so it is unimodal. "
   ]
  },
  {
   "cell_type": "code",
   "execution_count": 2,
   "metadata": {},
   "outputs": [
    {
     "data": {
      "text/plain": [
       "3"
      ]
     },
     "execution_count": 2,
     "metadata": {},
     "output_type": "execute_result"
    }
   ],
   "source": [
    "import statistics as stat\n",
    "stat.mode([1, 1, 2, 3, 3, 3, 3, 4])"
   ]
  },
  {
   "cell_type": "code",
   "execution_count": 3,
   "metadata": {},
   "outputs": [
    {
     "data": {
      "text/plain": [
       "'red'"
      ]
     },
     "execution_count": 3,
     "metadata": {},
     "output_type": "execute_result"
    }
   ],
   "source": [
    "stat.mode([\"red\", \"blue\", \"blue\", \"red\", \"green\", \"red\", \"red\"])"
   ]
  },
  {
   "cell_type": "markdown",
   "metadata": {},
   "source": [
    "**Median**:     \n",
    "The median of a set of numbers is the middle point of the set so that half the values are below the median and half are above the median."
   ]
  },
  {
   "cell_type": "code",
   "execution_count": 4,
   "metadata": {},
   "outputs": [
    {
     "name": "stdout",
     "output_type": "stream",
     "text": [
      "1.8\n"
     ]
    }
   ],
   "source": [
    "print(np.median(x))"
   ]
  },
  {
   "cell_type": "markdown",
   "metadata": {},
   "source": [
    "### 2. Expected Value of a Random Variable"
   ]
  },
  {
   "cell_type": "markdown",
   "metadata": {},
   "source": [
    "The *expected value* of a random variable is the average value it would have if we took an **infinite number of samples** of it and then averaged those samples together. \n",
    "\n",
    "Let's say we have $x=[1,3,5]$ and each value is equally probable. What value would we expect $x$ to have, on average?\n",
    "\n",
    "It would be the average of 1, 3, and 5, of course, which is 3. That should make sense; we would expect equal numbers of 1, 3, and 5 to occur, so $(1+3+5)/3=3$ is clearly the average of that infinite series of samples. In other words, here the expected value is the mean of the sample space.\n",
    "\n",
    "Now suppose that each value has a *different probability of happening*. Say 1 has an 80% chance of occurring, 3 has an 15% chance, and 5 has only a 5% chance. In this case we compute the expected value by multiplying each value of $x$ by the percent chance of it occurring, and summing the result. For this case we could compute\n",
    "\n",
    "$$\\mathbb E[X] = (1)(0.8) + (3)(0.15) + (5)(0.05) = 1.5$$\n",
    "\n",
    "Here I have introduced the notation $\\mathbb E[X]$ for the expected value of $x$. Some texts use $E(x)$. The value 1.5 for $x$ makes intuitive sense because $x$ is far more likely to be 1 than 3 or 5, and 3 is more likely than 5 as well.\n",
    "\n",
    "We can formalize this by letting $x_i$ be the $i^{th}$ value of $X$, and $p_i$ be the probability of its occurrence. This gives us\n",
    "\n",
    "$$\\mathbb E[X] = \\sum_{i=1}^n p_ix_i$$\n",
    "\n",
    "A trivial bit of algebra shows that if the probabilities are all equal, the expected value is the same as the mean:\n",
    "\n",
    "$$\\mathbb E[X] = \\sum_{i=1}^n p_ix_i = \\frac{1}{n}\\sum_{i=1}^n x_i = \\mu_x$$\n",
    "\n",
    "If $x$ is continuous we substitute the sum for an integral, like so\n",
    "\n",
    "$$\\mathbb E[X] = \\int_{-\\infty}^\\infty x\\, f(x) \\,dx$$\n",
    "\n",
    "where $f(x)$ is the probability distribution function of $x$."
   ]
  },
  {
   "cell_type": "markdown",
   "metadata": {},
   "source": [
    "### 3. Variance of a Random Variable"
   ]
  },
  {
   "cell_type": "markdown",
   "metadata": {},
   "source": [
    "Statistics has formalized the concept of measuring variation into the notion of *standard deviation* and *variance*. The equation for computing the variance is\n",
    "\n",
    "$$\\mathit{VAR}(X) = E[(X - \\mu)^2]$$\n",
    "\n",
    "Ignoring the squaring for a moment, you can see that the variance is the expected value for how much the sample space $X$ varies from the mean $\\mu:$ ($X-\\mu)$.     \n",
    "We have the formula for the expected value $E[X] = \\sum\\limits_{i=1}^n p_ix_i$ so we can substitute that into the equation above to get\n",
    "\n",
    "$$\\mathit{VAR}(X) = \\frac{1}{n}\\sum_{i=1}^n (x_i - \\mu)^2$$\n",
    "\n",
    "NumPy provides the function var() to compute the variance:"
   ]
  },
  {
   "cell_type": "code",
   "execution_count": 5,
   "metadata": {},
   "outputs": [
    {
     "name": "stdout",
     "output_type": "stream",
     "text": [
      "0.01999999999999999 meters squared\n"
     ]
    }
   ],
   "source": [
    "X = [1.8, 2.0, 1.7, 1.9, 1.6]\n",
    "print(np.var(X), \"meters squared\")"
   ]
  },
  {
   "cell_type": "markdown",
   "metadata": {},
   "source": [
    "This is perhaps a bit hard to interpret. Heights are in meters, yet the variance is meters squared. Thus we have a more commonly used measure, the standard deviation, which is defined as the square root of the variance:\n",
    "\n",
    "$$\\sigma = \\sqrt{\\mathit{VAR}(X)}=\\sqrt{\\frac{1}{n}\\sum_{i=1}^n(x_i - \\mu)^2}$$\n",
    "It is typical to use $\\sigma$ for the standard deviation and $\\sigma^2$ for the variance. In most of this book I will be using $\\sigma^2$ instead of $\\mathit{VAR}(X)$ for the variance; they symbolize the same thing.\n",
    "\n",
    "We can compute with the NumPy method numpy.std()"
   ]
  },
  {
   "cell_type": "code",
   "execution_count": 6,
   "metadata": {},
   "outputs": [
    {
     "name": "stdout",
     "output_type": "stream",
     "text": [
      "std 0.1414\n",
      "var 0.0200\n"
     ]
    }
   ],
   "source": [
    "print('std {:.4f}'.format(np.std(X)))\n",
    "print('var {:.4f}'.format(np.std(X)**2))"
   ]
  },
  {
   "cell_type": "markdown",
   "metadata": {},
   "source": [
    "What does the standard deviation signify? It tells us how much the heights vary amongst themselves. \"How much\" is not a mathematical term.          \n",
    "\n",
    "For now I'll say that for many things 68% of all values lie within one standard deviation of the mean. In other words we can conclude that for a random class 68% of the students will have heights between 1.66 (1.8-0.1414) meters and 1.94 (1.8+0.1414) meters."
   ]
  },
  {
   "cell_type": "code",
   "execution_count": 7,
   "metadata": {},
   "outputs": [],
   "source": [
    "from gaussian_internal import plot_height_std\n",
    "import matplotlib.pyplot as plt"
   ]
  },
  {
   "cell_type": "code",
   "execution_count": 8,
   "metadata": {},
   "outputs": [
    {
     "data": {
      "image/png": "[encoded data removed]",
      "text/plain": [
       "<matplotlib.figure.Figure at 0x57aa828>"
      ]
     },
     "metadata": {},
     "output_type": "display_data"
    }
   ],
   "source": [
    "plot_height_std(X)"
   ]
  },
  {
   "cell_type": "markdown",
   "metadata": {},
   "source": [
    "For only 5 students we obviously will not get exactly 68% within one standard deviation. We do see that 3 out of 5 students are within $\\pm1\\sigma$, or 60%, which is as close as you can get to 68% with only 5 samples. I haven't yet introduced enough math or Python for you to fully understand the next bit of code, but let's look at the results for a class with 100 students.\n",
    "\n",
    "\n",
    "> We write one standard deviation as  $1\\sigma$, which is pronounced \"one standard deviation\", not \"one sigma\". Two standard deviations is $2\\sigma$, and so on.\n"
   ]
  },
  {
   "cell_type": "code",
   "execution_count": 9,
   "metadata": {},
   "outputs": [
    {
     "data": {
      "image/png": "[encoded data removed]",
      "text/plain": [
       "<matplotlib.figure.Figure at 0x136b4908>"
      ]
     },
     "metadata": {},
     "output_type": "display_data"
    },
    {
     "name": "stdout",
     "output_type": "stream",
     "text": [
      "mean = 1.793\n",
      "std  = 0.134\n"
     ]
    }
   ],
   "source": [
    "from numpy.random import randn\n",
    "data = [1.8 + .1414*randn() for i in range(100)]\n",
    "\n",
    "plot_height_std(data, lw=2)\n",
    "print('mean = {:.3f}'.format(np.mean(data)))\n",
    "print('std  = {:.3f}'.format(np.std(data)))"
   ]
  },
  {
   "cell_type": "markdown",
   "metadata": {},
   "source": [
    "We can see by eye that roughly 68% of the heights lie within $\\pm1\\sigma$ of the mean 1.8."
   ]
  },
  {
   "cell_type": "markdown",
   "metadata": {},
   "source": [
    "### 4. Gaussians\n",
    "Let's look at a graph of a Gaussian distribution"
   ]
  },
  {
   "cell_type": "code",
   "execution_count": 10,
   "metadata": {},
   "outputs": [
    {
     "data": {
      "image/png": "[encoded data removed]",
      "text/plain": [
       "<matplotlib.figure.Figure at 0x3482518>"
      ]
     },
     "metadata": {},
     "output_type": "display_data"
    }
   ],
   "source": [
    "from filterpy.stats import plot_gaussian_pdf\n",
    "plt.figure()\n",
    "plot_gaussian_pdf(mean=1.8, variance=0.1414**2, \n",
    "                  xlabel='Student Height', ylabel='pdf');"
   ]
  },
  {
   "cell_type": "markdown",
   "metadata": {},
   "source": [
    "This curve is a **probability density function** or **pdf** for short. It shows the **relative likelihood for the random variable to take on a value**. In the chart above, a student is somewhat more likely to have a height near 1.8 m than 1.7 m, and far more likely to have a height of 1.9 m vs 1.4 m.\n",
    "\n",
    "This may be recognizable to you as a 'bell curve'. This curve is ubiquitous because under real world conditions many observations are distributed in such a manner. I will not use the term 'bell curve' to refer to a Gaussian because many probability distributions have a similar bell curve shape. Non-mathematical sources might not be as precise, so be judicious in what you conclude when you see the term used without definition.\n",
    "\n",
    "This curve is not unique to heights — a vast amount of natural phenomena exhibits this sort of distribution, including the sensors that we use in filtering problems. As we will see, it also has all the attributes that we are looking for — it represents a unimodal belief or value as a probability, it is continuous, and it is computationally efficient. We will soon discover that it also has other desirable qualities which we may not realize we desire."
   ]
  },
  {
   "cell_type": "markdown",
   "metadata": {},
   "source": [
    "#### Gaussian Distributions\n",
    "Let's explore how Gaussians work. A Gaussian is a *continuous probability distribution* that is completely described with two parameters, the mean ($\\mu$) and the variance ($\\sigma^2$). It is defined as:\n",
    "\n",
    "$$ \n",
    "f(x, \\mu, \\sigma) = \\frac{1}{\\sigma\\sqrt{2\\pi}} \\exp\\big [{-\\frac{(x-\\mu)^2}{2\\sigma^2} }\\big ]\n",
    "$$\n",
    "$\\exp[x]$ is notation for $e^x$.\n",
    "\n",
    "Don't be dissuaded by the equation if you haven't seen it before; you will not need to memorize or manipulate it. The computation of this function is stored in ```stats.py``` with the function ```gaussian(x, mean, var)```.\n",
    "\n",
    "```python\n",
    "%load -s gaussian stats.py\n",
    "\n",
    "def gaussian(x, mean, var):\n",
    "    \"\"\"returns normal distribution for x given a \n",
    "    gaussian with the specified mean and variance. \n",
    "    \"\"\"\n",
    "    return (np.exp((-0.5*(np.asarray(x)-mean)**2)/var) /\n",
    "            math.sqrt(2*math.pi*var))\n",
    "```\n",
    "\n",
    "We will plot a Gaussian with a mean of 22 $(\\mu=22)$, with a variance of 4 $(\\sigma^2=4)$"
   ]
  },
  {
   "cell_type": "code",
   "execution_count": 11,
   "metadata": {},
   "outputs": [
    {
     "data": {
      "image/png": "[encoded data removed]",
      "text/plain": [
       "<matplotlib.figure.Figure at 0x1487a908>"
      ]
     },
     "metadata": {},
     "output_type": "display_data"
    }
   ],
   "source": [
    "plot_gaussian_pdf(22, 4, mean_line=True, xlabel='$^{\\circ}C$');"
   ]
  },
  {
   "cell_type": "markdown",
   "metadata": {},
   "source": [
    "How do you compute the probability, or area under the curve? You integrate the equation for the Gaussian\n",
    "\n",
    "$$ \\int^{x_1}_{x_0}  \\frac{1}{\\sigma\\sqrt{2\\pi}} e^{-\\frac{1}{2}{(x-\\mu)^2}/\\sigma^2 } dx$$\n",
    "\n",
    "I wrote ```filterpy.stats.norm_cdf``` which computes the integral for you. For example, we can compute"
   ]
  },
  {
   "cell_type": "code",
   "execution_count": 12,
   "metadata": {},
   "outputs": [
    {
     "name": "stdout",
     "output_type": "stream",
     "text": [
      "Probability of range 21.5 to 22.5 is 19.74%\n",
      "Probability of range 23.5 to 24.5 is 12.10%\n"
     ]
    }
   ],
   "source": [
    "from filterpy.stats import norm_cdf\n",
    "print('Probability of range 21.5 to 22.5 is {:.2f}%'.format(\n",
    "      norm_cdf((21.5, 22.5), 22,4)*100))\n",
    "print('Probability of range 23.5 to 24.5 is {:.2f}%'.format(\n",
    "      norm_cdf((23.5, 24.5), 22,4)*100))"
   ]
  },
  {
   "cell_type": "markdown",
   "metadata": {},
   "source": [
    "The mean ($\\mu$) is what it sounds like — the average of all possible probabilities. Because of the symmetric shape of the curve it is also the tallest part of the curve. The thermometer reads 22°C, so that is what we used for the mean.\n",
    "\n",
    "The notation for a normal distribution for a random variable $X$ is $X \\sim\\ \\mathcal{N}(\\mu,\\sigma^2)$ where $\\sim$ means distributed according to. This means I can express the temperature reading of our thermometer as\n",
    "\n",
    "$$\\text{temp} \\sim \\mathcal{N}(22,4)$$\n",
    "\n",
    "This is an extremely important result. Gaussians allow me to capture an infinite number of possible values with only two numbers! With the values $\\mu=22$ and $\\sigma^2=4$ I can compute the distribution of measurements for over any range."
   ]
  },
  {
   "cell_type": "markdown",
   "metadata": {},
   "source": [
    "### The Variance and Belief\n",
    "Since this is a probability density distribution it is required that the area under the curve always equals one. This should be intuitively clear — the area under the curve represents all possible outcomes, something happened, and the probability of something happening is one, so the density must sum to one."
   ]
  },
  {
   "cell_type": "code",
   "execution_count": 13,
   "metadata": {},
   "outputs": [
    {
     "name": "stdout",
     "output_type": "stream",
     "text": [
      "1.0\n"
     ]
    }
   ],
   "source": [
    "print(norm_cdf((-1e8, 1e8), mu=0, var=4))"
   ]
  },
  {
   "cell_type": "markdown",
   "metadata": {},
   "source": [
    "This leads to an important insight. If the variance is small the curve will be narrow. this is because the variance is a measure of **how much** the samples vary from the mean. To keep the area equal to 1, the curve must also be tall. On the other hand if the variance is large the curve will be wide, and thus it will also have to be short to make the area equal to 1.\n",
    "\n",
    "Let's look at that graphically:"
   ]
  },
  {
   "cell_type": "code",
   "execution_count": 14,
   "metadata": {},
   "outputs": [
    {
     "data": {
      "image/png": "[encoded data removed]",
      "text/plain": [
       "<matplotlib.figure.Figure at 0x1380e518>"
      ]
     },
     "metadata": {},
     "output_type": "display_data"
    }
   ],
   "source": [
    "from filterpy.stats import gaussian\n",
    "\n",
    "xs = np.arange(15, 30, 0.05)\n",
    "plt.plot(xs, gaussian(xs, 23, 0.05), label='$\\sigma^2$=0.05')\n",
    "plt.plot(xs, gaussian(xs, 23, 1), label='$\\sigma^2$=1', ls=':')\n",
    "plt.plot(xs, gaussian(xs, 23, 5), label='$\\sigma^2$=5', ls='--')\n",
    "plt.legend()\n",
    "plt.show()"
   ]
  },
  {
   "cell_type": "markdown",
   "metadata": {},
   "source": [
    "#### What is this telling us? \n",
    "\n",
    "The Gaussian with $\\sigma^2=0.05$ is very narrow. It is saying that we believe $x=23$, and that we are very sure about that. In contrast, the Gaussian with $\\sigma^2=5$ also believes that $x=23$, but we are much less sure about that. Our believe that $x=23$ is lower, and so our belief about the likely possible values for $x$ is spread out — we think it is quite likely that $x=20$ or $x=26$, for example. $\\sigma^2=0.05$ has almost completely eliminated $22$ or $24$ as possible values, whereas $\\sigma^2=5$ considers them nearly as likely as $23$."
   ]
  },
  {
   "cell_type": "markdown",
   "metadata": {},
   "source": [
    "#### The 68-95-99.7 Rule\n",
    "It is worth spending a few words on standard deviation now. The standard deviation is a measure of how much variation from the mean exists. For Gaussian distributions, 68% of all the data falls within one standard deviation ($\\pm1\\sigma$) of the mean, 95% falls within two standard deviations ($\\pm2\\sigma$), and 99.7% within three ($\\pm3\\sigma$). This is often called the 68-95-99.7 rule.       \n",
    "If you were told that the average test score in a class was 71 with a standard deviation of 9.4, you could conclude that 95% of the students received a score between 52.2 and 89.8 if the distribution is normal (that is calculated with $71 \\pm (2 * 9.4)$)."
   ]
  },
  {
   "cell_type": "code",
   "execution_count": 15,
   "metadata": {},
   "outputs": [
    {
     "data": {
      "image/png": "[encoded data removed]",
      "text/plain": [
       "<matplotlib.figure.Figure at 0x13802198>"
      ]
     },
     "metadata": {},
     "output_type": "display_data"
    }
   ],
   "source": [
    "from gaussian_internal import display_stddev_plot\n",
    "display_stddev_plot()"
   ]
  },
  {
   "cell_type": "markdown",
   "metadata": {},
   "source": [
    "### Computational Properties of Gaussians\n",
    "The product of two independent Gaussians is given by:\n",
    "\n",
    "$$\\begin{aligned}\\mu &=\\frac{\\sigma_1^2\\mu_2 + \\sigma_2^2\\mu_1}{\\sigma_1^2+\\sigma_2^2}\\\\\n",
    "\\sigma^2 &=\\frac{\\sigma_1^2\\sigma_2^2}{\\sigma_1^2+\\sigma_2^2} \n",
    "\\end{aligned}$$\n",
    "The sum of two Gaussians is given by\n",
    "\n",
    "$$\\begin{gathered}\\mu = \\mu_1 + \\mu_2 \\\\\n",
    "\\sigma^2 = \\sigma^2_1 + \\sigma^2_2\n",
    "\\end{gathered}$$\n",
    "\n",
    "\n",
    "#### Product of Gaussians\n",
    "You can find this result by multiplying the equation for two Gaussians together and combining terms. I will derive it using Bayes theorem.Write the posterior as $P(x \\mid z)$. We can state the problem as: let the prior be $N(\\bar\\mu, \\bar\\sigma^2)$, and measurement be $z \\propto N(z, \\sigma_z^2)$. What is the posterior x given the measurement z?\n",
    "\n",
    "\n",
    "Now we can use Bayes Theorem to state\n",
    "\n",
    "$$P(x \\mid z) = \\frac{P(z \\mid x)P(x)}{P(z)}$$\n",
    "$P(z)$ is a normalizing constant, so we can create a proportinality\n",
    "\n",
    "$$P(x \\mid z) \\propto P(z|x)P(x)$$\n",
    "Now we subtitute in the equations for the Gaussians, which are\n",
    "\n",
    "$$P(z \\mid x) = \\frac{1}{\\sqrt{2\\pi\\sigma_z^2}}\\exp \\Big[-\\frac{(z-x)^2}{2\\sigma_z^2}\\Big]$$$$P(x) = \\frac{1}{\\sqrt{2\\pi\\bar\\sigma^2}}\\exp \\Big[-\\frac{(x-\\bar\\mu)^2}{2\\bar\\sigma^2}\\Big]$$\n",
    "\n",
    "We can drop the leading terms, as they are constants, giving us\n",
    "\n",
    "$$\\begin{aligned}\n",
    "P(x \\mid z) &\\propto \\exp \\Big[-\\frac{(z-x)^2}{2\\sigma_z^2}\\Big]\\exp \\Big[-\\frac{(x-\\bar\\mu)^2}{2\\bar\\sigma^2}\\Big]\\\\\n",
    "&\\propto \\exp \\Big[-\\frac{(z-x)^2}{2\\sigma_z^2}-\\frac{(x-\\bar\\mu)^2}{2\\bar\\sigma^2}\\Big] \\\\\n",
    "&\\propto \\exp \\Big[-\\frac{1}{2\\sigma_z^2\\bar\\sigma^2}[\\bar\\sigma^2(z-x)^2-\\sigma_z^2(x-\\bar\\mu)^2]\\Big]\n",
    "\\end{aligned}$$\n",
    "\n",
    "Now we multiply out the squared terms and group in terms of the posterior $x$.\n",
    "\n",
    "$$\\begin{aligned}\n",
    "P(x \\mid z) &\\propto \\exp \\Big[-\\frac{1}{2\\sigma_z^2\\bar\\sigma^2}[\\bar\\sigma^2(z^2 -2xz + x^2) + \\sigma_z^2(x^2 - 2x\\bar\\mu+\\bar\\mu^2)]\\Big ] \\\\\n",
    "&\\propto \\exp \\Big[-\\frac{1}{2\\sigma_z^2\\bar\\sigma^2}[x^2(\\bar\\sigma^2+\\sigma_z^2)-2x(\\sigma_z^2\\bar\\mu + \\bar\\sigma^2z) + (\\bar\\sigma^2z^2+\\sigma_z^2\\bar\\mu^2)]\\Big ]\n",
    "\\end{aligned}$$\n",
    "\n",
    "The last parentheses do not contain the posterior $x$, so it can be treated as a constant and discarded.\n",
    "\n",
    "$$P(x \\mid z) \\propto \\exp \\Big[-\\frac{1}{2}\\frac{x^2(\\bar\\sigma^2+\\sigma_z^2)-2x(\\sigma_z^2\\bar\\mu + \\bar\\sigma^2z)}{\\sigma_z^2\\bar\\sigma^2}\\Big ]\n",
    "$$\n",
    "\n",
    "Divide numerator and denominator by $\\bar\\sigma^2+\\sigma_z^2$ to get\n",
    "\n",
    "$$P(x \\mid z) \\propto \\exp \\Big[-\\frac{1}{2}\\frac{x^2-2x(\\frac{\\sigma_z^2\\bar\\mu + \\bar\\sigma^2z}{\\bar\\sigma^2+\\sigma_z^2})}{\\frac{\\sigma_z^2\\bar\\sigma^2}{\\bar\\sigma^2+\\sigma_z^2}}\\Big ]\n",
    "$$\n",
    "\n",
    "Proportionality allows us create or delete constants at will, so we can factor this into\n",
    "\n",
    "$$P(x \\mid z) \\propto \\exp \\Big[-\\frac{1}{2}\\frac{(x-\\frac{\\sigma_z^2\\bar\\mu + \\bar\\sigma^2z}{\\bar\\sigma^2+\\sigma_z^2})^2}{\\frac{\\sigma_z^2\\bar\\sigma^2}{\\bar\\sigma^2+\\sigma_z^2}}\\Big ]\n",
    "$$\n",
    "A Gaussian is\n",
    "\n",
    "$$N(\\mu,\\, \\sigma^2) \\propto \\exp\\Big [-\\frac{1}{2}\\frac{(x - \\mu)^2}{\\sigma^2}\\Big ]$$\n",
    "\n",
    "So we can see that $P(x \\mid z)$ has a mean of\n",
    "\n",
    "$$\\mu_\\mathtt{posterior} = \\frac{\\sigma_z^2\\bar\\mu + \\bar\\sigma^2z}{\\bar\\sigma^2+\\sigma_z^2}$$\n",
    "and a variance of $$\n",
    "\\sigma_\\mathtt{posterior} = \\frac{\\sigma_z^2\\bar\\sigma^2}{\\bar\\sigma^2+\\sigma_z^2}\n",
    "$$\n",
    "\n",
    "I've dropped the constants, and so the result is not a normal, but proportional to one. Bayes theorem normalizes with the $P(z)$ divisor, ensuring that the result is normal. We normalize in the update step of our filters, ensuring the filter estimate is Gaussian.\n",
    "\n",
    "$$\\mathcal N_1 = \\| \\mathcal N_2\\cdot \\mathcal N_3\\|$$ We can state the problem as: let the prior be $N(\\bar\\mu, \\bar\\sigma^2)$, and measurement be $z \\propto N(z, \\sigma_z^2)$. What is the posterior x given the measurement z?\n",
    "Write the posterior as $P(x \\mid z)$. Now we can use Bayes Theorem to state\n",
    "\n",
    "$$P(x \\mid z) = \\frac{P(z \\mid x)P(x)}{P(z)}$$\n",
    "\n",
    "$P(z)$ is a normalizing constant, so we can create a proportinality\n",
    "\n",
    "$$P(x \\mid z) \\propto P(z|x)P(x)$$\n",
    "\n",
    "Now we subtitute in the equations for the Gaussians, which are\n",
    "\n",
    "$$P(z \\mid x) = \\frac{1}{\\sqrt{2\\pi\\sigma_z^2}}\\exp \\Big[-\\frac{(z-x)^2}{2\\sigma_z^2}\\Big]$$$$P(x) = \\frac{1}{\\sqrt{2\\pi\\bar\\sigma^2}}\\exp \\Big[-\\frac{(x-\\bar\\mu)^2}{2\\bar\\sigma^2}\\Big]$$\n",
    "\n",
    "We can drop the leading terms, as they are constants, giving us\n",
    "\n",
    "$$\\begin{aligned}\n",
    "P(x \\mid z) &\\propto \\exp \\Big[-\\frac{(z-x)^2}{2\\sigma_z^2}\\Big]\\exp \\Big[-\\frac{(x-\\bar\\mu)^2}{2\\bar\\sigma^2}\\Big]\\\\\n",
    "&\\propto \\exp \\Big[-\\frac{(z-x)^2}{2\\sigma_z^2}-\\frac{(x-\\bar\\mu)^2}{2\\bar\\sigma^2}\\Big] \\\\\n",
    "&\\propto \\exp \\Big[-\\frac{1}{2\\sigma_z^2\\bar\\sigma^2}[\\bar\\sigma^2(z-x)^2-\\sigma_z^2(x-\\bar\\mu)^2]\\Big]\n",
    "\\end{aligned}$$\n",
    "\n",
    "Now we multiply out the squared terms and group in terms of the posterior $x$.\n",
    "\n",
    "$$\\begin{aligned}\n",
    "P(x \\mid z) &\\propto \\exp \\Big[-\\frac{1}{2\\sigma_z^2\\bar\\sigma^2}[\\bar\\sigma^2(z^2 -2xz + x^2) + \\sigma_z^2(x^2 - 2x\\bar\\mu+\\bar\\mu^2)]\\Big ] \\\\\n",
    "&\\propto \\exp \\Big[-\\frac{1}{2\\sigma_z^2\\bar\\sigma^2}[x^2(\\bar\\sigma^2+\\sigma_z^2)-2x(\\sigma_z^2\\bar\\mu + \\bar\\sigma^2z) + (\\bar\\sigma^2z^2+\\sigma_z^2\\bar\\mu^2)]\\Big ]\n",
    "\\end{aligned}$$\n",
    "\n",
    "The last parentheses do not contain the posterior $x$, so it can be treated as a constant and discarded.\n",
    "\n",
    "$$P(x \\mid z) \\propto \\exp \\Big[-\\frac{1}{2}\\frac{x^2(\\bar\\sigma^2+\\sigma_z^2)-2x(\\sigma_z^2\\bar\\mu + \\bar\\sigma^2z)}{\\sigma_z^2\\bar\\sigma^2}\\Big ]\n",
    "$$\n",
    "\n",
    "Divide numerator and denominator by $\\bar\\sigma^2+\\sigma_z^2$ to get\n",
    "\n",
    "$$P(x \\mid z) \\propto \\exp \\Big[-\\frac{1}{2}\\frac{x^2-2x(\\frac{\\sigma_z^2\\bar\\mu + \\bar\\sigma^2z}{\\bar\\sigma^2+\\sigma_z^2})}{\\frac{\\sigma_z^2\\bar\\sigma^2}{\\bar\\sigma^2+\\sigma_z^2}}\\Big ]\n",
    "$$\n",
    "\n",
    "Proportionality allows us create or delete constants at will, so we can factor this into\n",
    "\n",
    "$$P(x \\mid z) \\propto \\exp \\Big[-\\frac{1}{2}\\frac{(x-\\frac{\\sigma_z^2\\bar\\mu + \\bar\\sigma^2z}{\\bar\\sigma^2+\\sigma_z^2})^2}{\\frac{\\sigma_z^2\\bar\\sigma^2}{\\bar\\sigma^2+\\sigma_z^2}}\\Big ]\n",
    "$$\n",
    "\n",
    "A Gaussian is\n",
    "\n",
    "$$N(\\mu,\\, \\sigma^2) \\propto \\exp\\Big [-\\frac{1}{2}\\frac{(x - \\mu)^2}{\\sigma^2}\\Big ]$$\n",
    "So we can see that $P(x \\mid z)$ has a mean of\n",
    "\n",
    "$$\\mu_\\mathtt{posterior} = \\frac{\\sigma_z^2\\bar\\mu + \\bar\\sigma^2z}{\\bar\\sigma^2+\\sigma_z^2}$$\n",
    "and a variance of $$\n",
    "\\sigma_\\mathtt{posterior} = \\frac{\\sigma_z^2\\bar\\sigma^2}{\\bar\\sigma^2+\\sigma_z^2}\n",
    "$$\n",
    "\n",
    "I've dropped the constants, and so the result is not a normal, but proportional to one. Bayes theorem normalizes with the $P(z)$ divisor, ensuring that the result is normal. We normalize in the update step of our filters, ensuring the filter estimate is Gaussian.\n",
    "\n",
    "$$\\mathcal N_1 = \\| \\mathcal N_2\\cdot \\mathcal N_3\\|$$\n"
   ]
  },
  {
   "cell_type": "markdown",
   "metadata": {},
   "source": [
    "### Computing Probabilities with scipy.stats"
   ]
  },
  {
   "cell_type": "markdown",
   "metadata": {},
   "source": [
    "pdf"
   ]
  },
  {
   "cell_type": "code",
   "execution_count": 16,
   "metadata": {},
   "outputs": [
    {
     "name": "stdout",
     "output_type": "stream",
     "text": [
      "0.13114657203397997\n",
      "0.13114657203397997\n"
     ]
    }
   ],
   "source": [
    "from scipy.stats import norm\n",
    "import filterpy.stats\n",
    "print(norm(2, 3).pdf(1.5))\n",
    "print(filterpy.stats.gaussian(x=1.5, mean=2, var=3*3))"
   ]
  },
  {
   "cell_type": "code",
   "execution_count": 17,
   "metadata": {},
   "outputs": [
    {
     "name": "stdout",
     "output_type": "stream",
     "text": [
      "pdf of 1.5 is       0.1311\n",
      "pdf of 2.5 is also  0.1311\n",
      "pdf of 2 is         0.1330\n"
     ]
    }
   ],
   "source": [
    "n23 = norm(2, 3)\n",
    "print('pdf of 1.5 is       %.4f' % n23.pdf(1.5))\n",
    "print('pdf of 2.5 is also  %.4f' % n23.pdf(2.5))\n",
    "print('pdf of 2 is         %.4f' % n23.pdf(2))"
   ]
  },
  {
   "cell_type": "markdown",
   "metadata": {},
   "source": [
    "Generate $n$ samples from the distribution with the rvs() function."
   ]
  },
  {
   "cell_type": "code",
   "execution_count": 18,
   "metadata": {},
   "outputs": [
    {
     "name": "stdout",
     "output_type": "stream",
     "text": [
      "[-2.438 -5.218 -0.252 -2.12   3.429  1.905 -0.574\n",
      "  8.182 -0.582 -0.625  1.373 -0.563  3.491  8.888\n",
      "  2.027]\n"
     ]
    }
   ],
   "source": [
    "np.set_printoptions(precision=3, linewidth=50)\n",
    "print(n23.rvs(size=15))"
   ]
  },
  {
   "cell_type": "markdown",
   "metadata": {},
   "source": [
    "Cumulative distribution function (CDF), which is the probability that a randomly drawn value from the distribution is less than or equal to $x$."
   ]
  },
  {
   "cell_type": "code",
   "execution_count": 19,
   "metadata": {},
   "outputs": [
    {
     "name": "stdout",
     "output_type": "stream",
     "text": [
      "0.5\n"
     ]
    }
   ],
   "source": [
    "print(n23.cdf(2))"
   ]
  },
  {
   "cell_type": "markdown",
   "metadata": {},
   "source": [
    "Properties of the distribution:"
   ]
  },
  {
   "cell_type": "code",
   "execution_count": 20,
   "metadata": {},
   "outputs": [
    {
     "name": "stdout",
     "output_type": "stream",
     "text": [
      "variance is 9.0\n",
      "standard deviation is 3.0\n",
      "mean is 2.0\n"
     ]
    }
   ],
   "source": [
    "print('variance is', n23.var())\n",
    "print('standard deviation is', n23.std())\n",
    "print('mean is', n23.mean())"
   ]
  },
  {
   "cell_type": "markdown",
   "metadata": {},
   "source": [
    "### 5. Summary \n",
    "* Normals express a continuous probability distribution\n",
    "* They are completely described by two parameters: the mean ($\\mu$) and variance ($\\sigma^2$)\n",
    "* $\\mu$ is the average of all possible values\n",
    "* The variance $\\sigma^2$ represents how much our measurements vary from the mean\n",
    "* The standard deviation ($\\sigma$) is the square root of the variance ($\\sigma^2$)\n",
    "* Many things in nature approximate a normal distribution"
   ]
  }
 ],
 "metadata": {
  "kernelspec": {
   "display_name": "Python 3",
   "language": "python",
   "name": "python3"
  },
  "language_info": {
   "codemirror_mode": {
    "name": "ipython",
    "version": 3
   },
   "file_extension": ".py",
   "mimetype": "text/x-python",
   "name": "python",
   "nbconvert_exporter": "python",
   "pygments_lexer": "ipython3",
   "version": "3.6.4"
  }
 },
 "nbformat": 4,
 "nbformat_minor": 2
}
