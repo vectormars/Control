{
 "cells": [
  {
   "cell_type": "code",
   "execution_count": 1,
   "metadata": {},
   "outputs": [],
   "source": [
    "import numpy as np\n",
    "from numpy import random\n",
    "from numpy.random import randn\n",
    "import matplotlib.pyplot as plt\n",
    "from filterpy.kalman import FixedLagSmoother, KalmanFilter\n",
    "import kf_book.book_plots as bp\n",
    "from kf_book.book_plots import figsize\n",
    "from kf_book.smoothing_internal import *"
   ]
  },
  {
   "cell_type": "markdown",
   "metadata": {},
   "source": [
    "## Fixed-Lag Smoothing"
   ]
  },
  {
   "cell_type": "code",
   "execution_count": 2,
   "metadata": {},
   "outputs": [
    {
     "data": {
      "image/png": "[encoded data removed]",
      "text/plain": [
       "<matplotlib.figure.Figure at 0x55a1710>"
      ]
     },
     "metadata": {},
     "output_type": "display_data"
    }
   ],
   "source": [
    "with figsize(y=2):\n",
    "    show_fixed_lag_numberline()"
   ]
  },
  {
   "cell_type": "markdown",
   "metadata": {},
   "source": [
    "At step $k$ we can estimate $x_k$ using the normal Kalman filter equations. However, we can make a better estimate for $x_{k-1}$ by using the measurement received for $x_k$. Likewise, we can make a better estimate for $x_{k-2}$ by using the measurements recevied for $x_{k-1}$ and $x_{k}$. We can extend this computation back for an arbitrary $N$ steps. \n",
    "\n",
    "The essense of the idea is that instead of having a state vector $\\mathbf{x}$ we make an augmented state containing\n",
    "\n",
    "$$\\mathbf{x} = \\begin{bmatrix}\\mathbf{x}_k \\\\ \\mathbf{x}_{k-1} \\\\ \\vdots\\\\ \\mathbf{x}_{k-N+1}\\end{bmatrix}$$\n",
    "\n",
    "This yields a very large covariance matrix that contains the covariance between states at different steps. FilterPy's class ```FixedLagSmoother``` takes care of all of this computation for you, including creation of the augmented matrices. All you need to do is compose it as if you are using the ```KalmanFilter``` class and then call ```smooth()```, which implements the predict and update steps of the algorithm.\n",
    "\n",
    "Each call of ```smooth``` computes the estimate for the current measurement, but it also goes back and adjusts the previous N-1 points as well. The smoothed values are contained in the list ```FixedLagSmoother.xSmooth```. If you use ```FixedLagSmoother.x``` you will get the most recent estimate, but it is not smoothed and is no different from a standard Kalman filter output."
   ]
  },
  {
   "cell_type": "code",
   "execution_count": 3,
   "metadata": {},
   "outputs": [
    {
     "name": "stdout",
     "output_type": "stream",
     "text": [
      "standard deviation fixed-lag: 1.481\n",
      "standard deviation kalman: 2.153\n"
     ]
    },
    {
     "data": {
      "image/png": "[encoded data removed]",
      "text/plain": [
       "<matplotlib.figure.Figure at 0x136a3780>"
      ]
     },
     "metadata": {},
     "output_type": "display_data"
    }
   ],
   "source": [
    "fls = FixedLagSmoother(dim_x=2, dim_z=1, N=8)\n",
    "\n",
    "fls.x = np.array([0., .5])\n",
    "fls.F = np.array([[1.,1.],\n",
    "                  [0.,1.]])\n",
    "\n",
    "fls.H = np.array([[1.,0.]])\n",
    "fls.P *= 200\n",
    "fls.R *= 5.\n",
    "fls.Q *= 0.001\n",
    "\n",
    "kf = KalmanFilter(dim_x=2, dim_z=1)\n",
    "kf.x = np.array([0., .5])\n",
    "kf.F = np.array([[1.,1.],\n",
    "                 [0.,1.]])\n",
    "kf.H = np.array([[1.,0.]])\n",
    "kf.P *= 200\n",
    "kf.R *= 5.\n",
    "kf.Q *= 0.001\n",
    "\n",
    "N = 4 # size of lag\n",
    "\n",
    "nom =  np.array([t/2. for t in range (0, 40)])\n",
    "zs = np.array([t + random.randn()*5.1 for t in nom])\n",
    "\n",
    "for z in zs:\n",
    "    fls.smooth(z)\n",
    "    \n",
    "kf_x, _, _, _ = kf.batch_filter(zs)\n",
    "x_smooth = np.array(fls.xSmooth)[:, 0]\n",
    "\n",
    "\n",
    "fls_res = abs(x_smooth - nom)\n",
    "kf_res = abs(kf_x[:, 0] - nom)\n",
    "\n",
    "plt.plot(zs,'o', alpha=0.5, marker='o', label='zs')\n",
    "plt.plot(x_smooth, label='FLS')\n",
    "plt.plot(kf_x[:, 0], label='KF', ls='--')\n",
    "plt.legend(loc=4)\n",
    "\n",
    "print('standard deviation fixed-lag: {:.3f}'.format(np.mean(fls_res)))\n",
    "print('standard deviation kalman: {:.3f}'.format(np.mean(kf_res)))"
   ]
  }
 ],
 "metadata": {
  "kernelspec": {
   "display_name": "Python 3",
   "language": "python",
   "name": "python3"
  },
  "language_info": {
   "codemirror_mode": {
    "name": "ipython",
    "version": 3
   },
   "file_extension": ".py",
   "mimetype": "text/x-python",
   "name": "python",
   "nbconvert_exporter": "python",
   "pygments_lexer": "ipython3",
   "version": "3.6.4"
  }
 },
 "nbformat": 4,
 "nbformat_minor": 2
}
