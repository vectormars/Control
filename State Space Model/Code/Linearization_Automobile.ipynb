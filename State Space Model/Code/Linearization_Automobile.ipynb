{
 "cells": [
  {
   "cell_type": "markdown",
   "metadata": {},
   "source": [
    "## Linearization of Differential Equations- Automobile"
   ]
  },
  {
   "cell_type": "markdown",
   "metadata": {},
   "source": [
    "Linearize the momentum balance for the velocity of an automobile at steady state conditions when the gas pedal is maintained at 40%.\n",
    "\n",
    "\\begin{equation*}\n",
    "m\\frac{dv(t)}{dt} = F_p u(t) - \\frac{1}{2} \\rho \\, A \\, C_d v(t)^2\n",
    "\\end{equation*}\n",
    "\n",
    "with u(t) as gas pedal position (%pedal), v(t) as velocity (m/s), m as the mass of the vehicle (500 kg) plus the mass of the passengers and cargo (200 kg), Cd as the drag coefficient (0.24), $\\rho$ as the air density (1.225 kg/m3), A as the vehicle cross-sectional area (5 m2), and Fp as the thrust parameter (30 N/%pedal)."
   ]
  },
  {
   "cell_type": "markdown",
   "metadata": {},
   "source": [
    "### analytic solution"
   ]
  },
  {
   "cell_type": "code",
   "execution_count": 1,
   "metadata": {},
   "outputs": [
    {
     "name": "stdout",
     "output_type": "stream",
     "text": [
      "-A*Cd*rho*v/m\n",
      "Fp/m\n"
     ]
    }
   ],
   "source": [
    "import sympy as sp\n",
    "sp.init_printing()\n",
    "# define symbols\n",
    "v,u = sp.symbols(['v','u'])\n",
    "Fp,rho,Cd,A,m = sp.symbols(['Fp','rho','Cd','A','m'])\n",
    "# define equation\n",
    "eqn = Fp*u/m - rho*A*Cd*v**2/(2*m)\n",
    "\n",
    "print(sp.diff(eqn,v))\n",
    "print(sp.diff(eqn,u))"
   ]
  },
  {
   "cell_type": "markdown",
   "metadata": {},
   "source": [
    "### numeric solution"
   ]
  },
  {
   "cell_type": "code",
   "execution_count": 2,
   "metadata": {},
   "outputs": [
    {
     "name": "stdout",
     "output_type": "stream",
     "text": [
      "Approximate Partial Derivatives\n",
      "-0.10500000000135401\n",
      "0.04285714286011988\n"
     ]
    }
   ],
   "source": [
    "from scipy.misc import derivative\n",
    "m = 700.0   # kg\n",
    "Cd = 0.24\n",
    "rho = 1.225 # kg/m^3\n",
    "A = 5.0     # m^2\n",
    "Fp = 30.0   # N/%pedal\n",
    "u = 40.0    # % pedal\n",
    "v = 50.0    # km/hr (change this for SS condition)\n",
    "def fv(v):\n",
    "    return Fp*u/m - rho*A*Cd*v**2/(2*m)\n",
    "def fu(u):\n",
    "    return Fp*u/m - rho*A*Cd*v**2/(2*m)\n",
    "\n",
    "print('Approximate Partial Derivatives')\n",
    "print(derivative(fv,v,dx=1e-4))\n",
    "print(derivative(fu,u,dx=1e-4))"
   ]
  },
  {
   "cell_type": "code",
   "execution_count": 3,
   "metadata": {},
   "outputs": [
    {
     "name": "stdout",
     "output_type": "stream",
     "text": [
      "Exact Partial Derivatives\n",
      "-0.105\n",
      "0.04285714285714286\n"
     ]
    }
   ],
   "source": [
    "print('Exact Partial Derivatives')\n",
    "print(-A*Cd*rho*v/m) # exact d(f(u,v))/dv\n",
    "print(Fp/m) # exact d(f(u,v))/du"
   ]
  },
  {
   "cell_type": "code",
   "execution_count": 4,
   "metadata": {},
   "outputs": [],
   "source": [
    "import numpy as np\n",
    "import matplotlib.pyplot as plt\n",
    "from scipy.integrate import odeint"
   ]
  },
  {
   "cell_type": "code",
   "execution_count": 5,
   "metadata": {},
   "outputs": [],
   "source": [
    "# define model\n",
    "def vehicle(v,t,u,load):\n",
    "    # inputs\n",
    "    #  v    = vehicle velocity (m/s)\n",
    "    #  t    = time (sec)\n",
    "    #  u    = gas pedal position (0% to 100%)\n",
    "    #  load = passenger load + cargo (kg)\n",
    "    Cd = 0.24    # drag coefficient\n",
    "    rho = 1.225  # air density (kg/m^3)\n",
    "    A = 5.0      # cross-sectional area (m^2)\n",
    "    Fp = 30      # thrust parameter (N/%pedal)\n",
    "    m = 500      # vehicle mass (kg)\n",
    "    # calculate derivative of the velocity\n",
    "    dv_dt = (1.0/(m+load)) * (Fp*u - 0.5*rho*Cd*A*v**2)\n",
    "    return dv_dt"
   ]
  },
  {
   "cell_type": "code",
   "execution_count": 6,
   "metadata": {},
   "outputs": [],
   "source": [
    "tf = 60.0                 # final time for simulation\n",
    "nsteps = 61               # number of time steps\n",
    "delta_t = tf/(nsteps-1)   # how long is each time step?\n",
    "ts = np.linspace(0,tf,nsteps) # linearly spaced time vector\n",
    "\n",
    "# simulate step test operation\n",
    "step = np.zeros(nsteps) # u = valve % open\n",
    "step[11:] = 50.0       # step up pedal position\n",
    "# passenger(s) + cargo load\n",
    "load = 200.0 # kg\n",
    "# velocity initial condition\n",
    "v0 = 0.0\n",
    "# for storing the results\n",
    "vs = np.zeros(nsteps)\n",
    "\n",
    "# simulate with ODEINT\n",
    "for i in range(nsteps-1):\n",
    "    u = step[i]\n",
    "    v = odeint(vehicle,v0,[0,delta_t],args=(u,load))\n",
    "    v0 = v[-1]   # take the last value as initial condition\n",
    "    vs[i+1] = v0 # store the velocity for plotting"
   ]
  },
  {
   "cell_type": "code",
   "execution_count": 7,
   "metadata": {},
   "outputs": [
    {
     "data": {
      "image/png": "[encoded data removed]",
      "text/plain": [
       "<matplotlib.figure.Figure at 0x116d2550>"
      ]
     },
     "metadata": {},
     "output_type": "display_data"
    }
   ],
   "source": [
    "# plot results\n",
    "plt.figure()\n",
    "plt.subplot(2,1,1)\n",
    "plt.plot(ts,vs,'b-',linewidth=3)\n",
    "plt.ylabel('Velocity (m/s)')\n",
    "plt.legend(['Velocity'],loc=2)\n",
    "plt.subplot(2,1,2)\n",
    "plt.plot(ts,step,'r--',linewidth=3)\n",
    "plt.ylabel('Gas Pedal')    \n",
    "plt.legend(['Gas Pedal (%)'])\n",
    "plt.xlabel('Time (sec)')\n",
    "plt.show()"
   ]
  }
 ],
 "metadata": {
  "kernelspec": {
   "display_name": "Python 3",
   "language": "python",
   "name": "python3"
  },
  "language_info": {
   "codemirror_mode": {
    "name": "ipython",
    "version": 3
   },
   "file_extension": ".py",
   "mimetype": "text/x-python",
   "name": "python",
   "nbconvert_exporter": "python",
   "pygments_lexer": "ipython3",
   "version": "3.6.4"
  }
 },
 "nbformat": 4,
 "nbformat_minor": 2
}
