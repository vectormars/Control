{
 "cells": [
  {
   "cell_type": "code",
   "execution_count": 1,
   "metadata": {},
   "outputs": [],
   "source": [
    "import numpy as np\n",
    "import matplotlib.pyplot as plt\n",
    "from scipy.integrate import odeint"
   ]
  },
  {
   "cell_type": "code",
   "execution_count": 2,
   "metadata": {},
   "outputs": [],
   "source": [
    "# specify number of steps\n",
    "ns = 100\n",
    "# define time points\n",
    "t = np.linspace(0,ns/10.0,ns+1)"
   ]
  },
  {
   "cell_type": "markdown",
   "metadata": {},
   "source": [
    "A first-order linear system with time delay is:                \n",
    "\\begin{equation*}\n",
    "\\tau_p \\frac{dy(t)}{dt} = -y(t) + K_p u\\left(t-\\theta_p\\right)\n",
    "\\end{equation*}"
   ]
  },
  {
   "cell_type": "code",
   "execution_count": 3,
   "metadata": {},
   "outputs": [],
   "source": [
    "class model(object):\n",
    "    # process model\n",
    "    Kp = 2.0\n",
    "    taup = 200.0\n",
    "    thetap = 0.0"
   ]
  },
  {
   "cell_type": "code",
   "execution_count": 4,
   "metadata": {},
   "outputs": [],
   "source": [
    "def process(y,t,u,Kp,taup):\n",
    "    # Kp = process gain\n",
    "    # taup = process time constant\n",
    "    dydt = -y/taup + Kp/taup * u\n",
    "    return dydt"
   ]
  },
  {
   "cell_type": "code",
   "execution_count": 5,
   "metadata": {},
   "outputs": [],
   "source": [
    "def calc_response(t,m):\n",
    "    # t = time points\n",
    "    # m = process model\n",
    "    Kp = m.Kp\n",
    "    taup = m.taup\n",
    "    thetap = m.thetap\n",
    "    # specify number of steps\n",
    "    ns = len(t)-1\n",
    "\n",
    "    delta_t = t[1]-t[0]\n",
    "\n",
    "    # storage for recording values\n",
    "    op = np.zeros(ns+1)  # controller output\n",
    "    pv = np.zeros(ns+1)  # process variable\n",
    "\n",
    "    # step input\n",
    "    op[10:]=2.0\n",
    "\n",
    "    # Simulate time delay\n",
    "    ndelay = int(np.ceil(thetap / delta_t)) \n",
    "\n",
    "    # loop through time steps    \n",
    "    for i in range(0,ns):\n",
    "        # implement time delay\n",
    "        iop = max(0,i-ndelay)\n",
    "        y = odeint(process,pv[i],[0,delta_t],args=(op[iop],Kp,taup))\n",
    "        pv[i+1] = y[-1]\n",
    "    return (pv,op) "
   ]
  },
  {
   "cell_type": "code",
   "execution_count": 6,
   "metadata": {},
   "outputs": [],
   "source": [
    "# calculate step response\n",
    "model.Kp = 2.5\n",
    "model.taup = 2.0\n",
    "model.thetap = 3.0\n",
    "(pv,op) = calc_response(t,model)"
   ]
  },
  {
   "cell_type": "code",
   "execution_count": 7,
   "metadata": {},
   "outputs": [],
   "source": [
    "pv2 = np.zeros(len(t))\n",
    "for i in range(len(t)):\n",
    "    pv2[i] = model.Kp * (1.0 - np.exp(-(t[i]-model.thetap-1.0)/model.taup))*2.0\n",
    "\n",
    "pv3 = np.zeros(len(t))\n",
    "for i in range(len(t)):\n",
    "    pv3[i] = model.Kp * (1.0 - np.exp(-(t[i]-1.0)/model.taup))*2.0"
   ]
  },
  {
   "cell_type": "code",
   "execution_count": 8,
   "metadata": {},
   "outputs": [
    {
     "data": {
      "image/png": "[encoded data removed]",
      "text/plain": [
       "<matplotlib.figure.Figure at 0xf55fd30>"
      ]
     },
     "metadata": {},
     "output_type": "display_data"
    }
   ],
   "source": [
    "plt.figure(1)\n",
    "\n",
    "plt.subplot(2,1,1)\n",
    "frame1 = plt.gca()\n",
    "frame1.axes.get_xaxis().set_visible(False)\n",
    "plt.plot(t,pv3,'r--',linewidth=1,label=r'$y(t)$')\n",
    "plt.plot(t,pv2,'k.-',linewidth=2,label=r'$y(t-\\theta_p)$')\n",
    "plt.plot([0,4,4.0001,10],[0,0,1,1],'g:',linewidth=3,label=r'$S(t- \\theta _p)$')\n",
    "plt.plot(t,pv,'b-',linewidth=4,label=r'$x(t)$')\n",
    "plt.legend(loc='best')\n",
    "plt.ylabel('Process Output')\n",
    "plt.ylim([-4,5])\n",
    "\n",
    "plt.subplot(2,1,2)\n",
    "frame1 = plt.gca()\n",
    "frame1.axes.get_xaxis().set_visible(False)\n",
    "plt.plot(t,op,'r-',linewidth=3,label=r'$u(t)$')\n",
    "plt.plot(t+3.0,op,'k--',linewidth=3,label=r'$u(t-\\theta_p)$')\n",
    "plt.ylim([-0.1,2.1])\n",
    "plt.xlim([0,10])\n",
    "plt.legend(loc='best')\n",
    "plt.ylabel('Process Input')\n",
    "\n",
    "plt.xlabel('Time')\n",
    "\n",
    "plt.savefig('output.png')\n",
    "plt.show()"
   ]
  }
 ],
 "metadata": {
  "kernelspec": {
   "display_name": "Python 3",
   "language": "python",
   "name": "python3"
  },
  "language_info": {
   "codemirror_mode": {
    "name": "ipython",
    "version": 3
   },
   "file_extension": ".py",
   "mimetype": "text/x-python",
   "name": "python",
   "nbconvert_exporter": "python",
   "pygments_lexer": "ipython3",
   "version": "3.6.4"
  }
 },
 "nbformat": 4,
 "nbformat_minor": 2
}
