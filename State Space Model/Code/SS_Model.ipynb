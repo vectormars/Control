{
 "cells": [
  {
   "cell_type": "code",
   "execution_count": 1,
   "metadata": {},
   "outputs": [],
   "source": [
    "import numpy as np\n",
    "from scipy import signal\n",
    "%matplotlib inline\n",
    "import matplotlib.pyplot as plt"
   ]
  },
  {
   "cell_type": "markdown",
   "metadata": {},
   "source": [
    "## State Space Model"
   ]
  },
  {
   "cell_type": "markdown",
   "metadata": {},
   "source": [
    "Linear Time Invariant (LTI) state space models are a linear representation of a dynamic system in either discrete or continuous time.    \n",
    "Below is the continuous time form of a model in state space form \n",
    "\n",
    "\\begin{equation*}\n",
    "\\begin{gathered}\n",
    "  \\dot x = Ax + Bu  \\\\\n",
    "  y = Cx + Du  \\\\ \n",
    "\\end{gathered} \n",
    "\\end{equation*}"
   ]
  },
  {
   "cell_type": "markdown",
   "metadata": {},
   "source": [
    "### 1. First Order System in State Space\n",
    "\\begin{equation*}\n",
    "\\begin{array}{*{20}{l}}\n",
    "  {3\\frac{{dx}}{{dt}} + 12x = 6u} \\\\ \n",
    "  {y = x} \n",
    "\\end{array} \\Rightarrow \\begin{array}{*{20}{l}}\n",
    "  {\\dot x =  - 4x + 2u} \\\\ \n",
    "  {y = x} \n",
    "\\end{array}\n",
    "\\end{equation*}"
   ]
  },
  {
   "cell_type": "code",
   "execution_count": 2,
   "metadata": {},
   "outputs": [],
   "source": [
    "A = -4.0\n",
    "B = 2.0\n",
    "C = 1.0\n",
    "D = 0.0"
   ]
  },
  {
   "cell_type": "code",
   "execution_count": 3,
   "metadata": {},
   "outputs": [
    {
     "data": {
      "text/plain": [
       "[<matplotlib.lines.Line2D at 0x11c14828>]"
      ]
     },
     "execution_count": 3,
     "metadata": {},
     "output_type": "execute_result"
    },
    {
     "data": {
      "image/png": "[encoded data removed]",
      "text/plain": [
       "<matplotlib.figure.Figure at 0xfaa0240>"
      ]
     },
     "metadata": {},
     "output_type": "display_data"
    }
   ],
   "source": [
    "sys1 = signal.StateSpace(A,B,C,D)\n",
    "t1, y1 = signal.step(sys1)\n",
    "plt.plot(t1, y1)"
   ]
  },
  {
   "cell_type": "markdown",
   "metadata": {},
   "source": [
    "### 2. Second Order System in State Space\n",
    "\\begin{equation*}\n",
    "\\begin{array}{*{20}{l}}\n",
    "  {2\\frac{{d{x_1}}}{{dt}} + 6{x_1} = 8u} \\\\ \n",
    "  {3\\frac{{d{x_2}}}{{dt}} + 6{x_1} + 9{x_2} = 0} \\\\ \n",
    "  {y = \\frac{{{x_1} + {x_2}}}{2}} \n",
    "\\end{array} \\Rightarrow \\begin{array}{*{20}{l}}\n",
    "  {\\left[ {\\begin{array}{*{20}{c}}\n",
    "  {{{\\dot x}_1}} \\\\ \n",
    "  {{{\\dot x}_2}} \n",
    "\\end{array}} \\right] = \\left[ {\\begin{array}{*{20}{c}}\n",
    "  { - 3}&0 \\\\ \n",
    "  { - 2}&{ - 3} \n",
    "\\end{array}} \\right]\\left[ {\\begin{array}{*{20}{c}}\n",
    "  {{x_1}} \\\\ \n",
    "  {{x_2}} \n",
    "\\end{array}} \\right] + \\left[ {\\begin{array}{*{20}{c}}\n",
    "  4 \\\\ \n",
    "  0 \n",
    "\\end{array}} \\right]u} \\\\ \n",
    "  {y = \\left[ {\\begin{array}{*{20}{c}}\n",
    "  {\\frac{1}{2}}&{\\frac{1}{2}} \n",
    "\\end{array}} \\right]\\left[ {\\begin{array}{*{20}{c}}\n",
    "  {{x_1}} \\\\ \n",
    "  {{x_2}} \n",
    "\\end{array}} \\right]} \n",
    "\\end{array}\n",
    "\\end{equation*}"
   ]
  },
  {
   "cell_type": "code",
   "execution_count": 4,
   "metadata": {},
   "outputs": [],
   "source": [
    "A = [[-3.0,0.0],[-2.0,-3.0]]\n",
    "B = [[4.0],[0.0]]\n",
    "C = [0.5, 0.5]\n",
    "D = [0.0]"
   ]
  },
  {
   "cell_type": "code",
   "execution_count": 5,
   "metadata": {},
   "outputs": [
    {
     "data": {
      "text/plain": [
       "[<matplotlib.lines.Line2D at 0x11cb19e8>]"
      ]
     },
     "execution_count": 5,
     "metadata": {},
     "output_type": "execute_result"
    },
    {
     "data": {
      "image/png": "[encoded data removed]",
      "text/plain": [
       "<matplotlib.figure.Figure at 0x5d00320>"
      ]
     },
     "metadata": {},
     "output_type": "display_data"
    }
   ],
   "source": [
    "sys2 = signal.StateSpace(A,B,C,D)\n",
    "t2, y2 = signal.step(sys2)\n",
    "plt.plot(t2, y2)"
   ]
  },
  {
   "cell_type": "markdown",
   "metadata": {},
   "source": [
    "### 3. Second order differential equation\n",
    "\\begin{equation*}\n",
    "4\\frac{{{d^2}y}}{{d{t^2}}} + 2\\frac{{dy}}{{dt}} + y = 3u \\Rightarrow \\begin{array}{*{20}{l}}\n",
    "  {{x_1} = y} \\\\ \n",
    "  {{x_2} = \\frac{{dy}}{{dt}} = \\frac{{d{x_1}}}{{dt}}} \\\\ \n",
    "  {\\frac{{d{x_2}}}{{dt}} = \\frac{{{d^2}y}}{{d{t^2}}}} \n",
    "\\end{array} \\Rightarrow 4{{\\dot x}_2} + 2{x_2} + {x_1} = 3u \\Rightarrow \\begin{array}{*{20}{l}}\n",
    "  {\\left[ {\\begin{array}{*{20}{c}}\n",
    "  {{{\\dot x}_1}} \\\\ \n",
    "  {{{\\dot x}_2}} \n",
    "\\end{array}} \\right] = \\left[ {\\begin{array}{*{20}{c}}\n",
    "  0&1 \\\\ \n",
    "  { - 0.25}&{ - 0.5} \n",
    "\\end{array}} \\right]\\left[ {\\begin{array}{*{20}{c}}\n",
    "  {{x_1}} \\\\ \n",
    "  {{x_2}} \n",
    "\\end{array}} \\right] + \\left[ {\\begin{array}{*{20}{c}}\n",
    "  0 \\\\ \n",
    "  {0.75} \n",
    "\\end{array}} \\right]u} \\\\ \n",
    "  {y = \\left[ {\\begin{array}{*{20}{c}}\n",
    "  1&0 \n",
    "\\end{array}} \\right]\\left[ {\\begin{array}{*{20}{c}}\n",
    "  {{x_1}} \\\\ \n",
    "  {{x_2}} \n",
    "\\end{array}} \\right]} \n",
    "\\end{array}\n",
    "\\end{equation*}"
   ]
  },
  {
   "cell_type": "code",
   "execution_count": 6,
   "metadata": {},
   "outputs": [
    {
     "name": "stdout",
     "output_type": "stream",
     "text": [
      "[-0.25+0.4330127j -0.25-0.4330127j]\n"
     ]
    }
   ],
   "source": [
    "A = [[0.0,1.0],[-0.25,-0.5]]\n",
    "print(np.linalg.eig(A)[0])\n",
    "B = [[0.0],[0.75]]\n",
    "C = [1.0, 0.0]\n",
    "D = [0.0]"
   ]
  },
  {
   "cell_type": "markdown",
   "metadata": {},
   "source": [
    "### Stability\n",
    "The linear state space model is stable if all eigenvalues of A are negative real numbers or have negative real parts to complex number eigenvalues. \n",
    "* If all real parts of the eigenvalues are negative then the system is stable, meaning that any initial condition converges exponentially to a stable attracting point. \n",
    "* If any real parts are zero then the system will not converge to a point \n",
    "* If the eigenvalues are positive the system is unstable and will exponentially diverge."
   ]
  },
  {
   "cell_type": "code",
   "execution_count": 7,
   "metadata": {},
   "outputs": [
    {
     "data": {
      "text/plain": [
       "[<matplotlib.lines.Line2D at 0x11d1f2b0>]"
      ]
     },
     "execution_count": 7,
     "metadata": {},
     "output_type": "execute_result"
    },
    {
     "data": {
      "image/png": "[encoded data removed]",
      "text/plain": [
       "<matplotlib.figure.Figure at 0x5d00198>"
      ]
     },
     "metadata": {},
     "output_type": "display_data"
    }
   ],
   "source": [
    "sys3 = signal.StateSpace(A,B,C,D)\n",
    "t3, y3 = signal.step(sys3)\n",
    "plt.plot(t3, y3)"
   ]
  },
  {
   "cell_type": "code",
   "execution_count": 8,
   "metadata": {},
   "outputs": [
    {
     "data": {
      "text/plain": [
       "[<matplotlib.lines.Line2D at 0x12d17f28>]"
      ]
     },
     "execution_count": 8,
     "metadata": {},
     "output_type": "execute_result"
    },
    {
     "data": {
      "image/png": "[encoded data removed]",
      "text/plain": [
       "<matplotlib.figure.Figure at 0x12d17b00>"
      ]
     },
     "metadata": {},
     "output_type": "display_data"
    }
   ],
   "source": [
    "sys3 = signal.StateSpace(A,B,C,D)\n",
    "t = np.linspace(0,100,101)\n",
    "u = np.zeros(len(t))\n",
    "u[10:50] = 1.0\n",
    "u[50:] = 2.0\n",
    "t3, y3, x3 = signal.lsim(sys3, u, t)\n",
    "\n",
    "plt.plot(t, u, 'r-')\n",
    "plt.plot(t3, y3, 'b--')"
   ]
  },
  {
   "cell_type": "markdown",
   "metadata": {},
   "source": [
    "### 4. Nonliear differential equations\n",
    "\\begin{equation*}\n",
    "\\begin{gathered}\n",
    "  \\frac{{dx}}{{dt}} = f\\left( {x,u} \\right) \\hfill \\\\\n",
    "  y = g\\left( x \\right) \\hfill \\\\ \n",
    "\\end{gathered}\n",
    "\\end{equation*}\n",
    "\n",
    "The expressions for $f\\left( {x,u} \\right)$ and $g\\left( x \\right)$ are **linearized by a Taylor series expansion**, using only the first two terms      \n",
    "\\begin{equation*}\n",
    "\\frac{dx}{dt} = f(x,u) \\approx f \\left(\\bar x, \\bar u\\right) + \\frac{\\partial f}{\\partial x}\\bigg|_{\\bar x,\\bar u} \\left(x-\\bar x\\right) + \\frac{\\partial f}{\\partial u}\\bigg|_{\\bar x,\\bar u} \\left(u-\\bar u\\right)\n",
    "\\end{equation*}       \n",
    "If the values of ${\\bar u}$ and ${\\bar x}$ are chosen at steady state conditions then $f\\left( {\\bar x,\\bar u} \\right) = 0$ because the derivative term $\\frac{{dx}}{{dt}} = 0$ at steady state.       \n",
    "To simplify the final linearized expression, deviation variables are defined as $y' = y - \\bar y$, $x' = x - \\bar x$ and $u' = u - \\bar u$.          \n",
    "A deviation variable is a change from the nominal steady state conditions. The derivatives of the deviation variable are defined as $\\frac{{dx'}}{{dt}} = \\frac{{dx}}{{dt}}$ because $\\frac{{d\\bar u}}{{dt}} = 0$ in $\\frac{{dx'}}{{dt}} = \\frac{{d\\left( {x - \\bar x} \\right)}}{{dt}} = \\frac{{dx}}{{dt}} - \\frac{{d\\bar x}}{{dt}} = \\frac{{dx}}{{dt}} - 0 = \\frac{{dx}}{{dt}}$.             \n",
    "If there are additional variables such as a disturbance variable $d$ then it is added as another input term in deviation variable form."
   ]
  },
  {
   "cell_type": "markdown",
   "metadata": {},
   "source": [
    "\\begin{equation*}\n",
    "\\begin{gathered}\n",
    "  \\frac{dx'}{dt} = \\alpha \\, y' + \\beta \\, u' \\hfill \\\\\n",
    "  y' = \\gamma \\, x' \\hfill \\\\ \n",
    "\\end{gathered}\n",
    "\\end{equation*} "
   ]
  },
  {
   "cell_type": "markdown",
   "metadata": {},
   "source": [
    "The values of the constants $\\alpha$ and $\\beta$ are the partial derivatives of $f\\left( {x,u} \\right)$ and the value of the constant $\\gamma$ is the partial derivative of $g\\left( x \\right)$, all evaluated as steady state conditions.     \n",
    "\\begin{equation*}\n",
    "\\alpha = \\frac{\\partial f}{\\partial x}\\bigg|_{\\bar x,\\bar u} \\quad \\quad \\beta = \\frac{\\partial f}{\\partial u}\\bigg|_{\\bar x,\\bar u} \\quad \\quad \\gamma = \\frac{\\partial g}{\\partial x}\\bigg|_{\\bar x}\n",
    "\\end{equation*}       \n",
    "In cases with more than one $u$, $x$, or $y$ the general form of the linearized model in state space form with three inputs, two states, and two outputs is  \n",
    "\\begin{equation*}\n",
    "\\begin{bmatrix}\\dot x_1'\\\\\\dot x_2'\\end{bmatrix} = \\begin{bmatrix}\\frac{\\partial f_1}{\\partial x_1}\\bigg|_{\\bar x,\\bar u}&\\frac{\\partial f_1}{\\partial x_2}\\bigg|_{\\bar x,\\bar u}\\\\\\frac{\\partial f_2}{\\partial x_1}\\bigg|_{\\bar x,\\bar u}&\\frac{\\partial f_2}{\\partial x_2}\\bigg|_{\\bar x,\\bar u}\\end{bmatrix} \\begin{bmatrix}x_1'\\\\x_2'\\end{bmatrix} + \\begin{bmatrix}\\frac{\\partial f_1}{\\partial u_1}\\bigg|_{\\bar x,\\bar u}&\\frac{\\partial f_1}{\\partial u_2}\\bigg|_{\\bar x,\\bar u}&\\frac{\\partial f_1}{\\partial u_3}\\bigg|_{\\bar x,\\bar u}\\\\\\frac{\\partial f_2}{\\partial u_1}\\bigg|_{\\bar x,\\bar u}&\\frac{\\partial f_2}{\\partial u_2}\\bigg|_{\\bar x,\\bar u}&\\frac{\\partial f_2}{\\partial u_3}\\bigg|_{\\bar x,\\bar u} \\end{bmatrix} \\begin{bmatrix}u_1'\\\\u_2'\\\\u_3'\\end{bmatrix}\n",
    "\\end{equation*}  \n",
    "\\begin{equation*}\n",
    "\\begin{bmatrix}y_1'\\\\y_2'\\end{bmatrix} = \\begin{bmatrix} \\frac{\\partial g_1}{\\partial x_2}\\bigg|_{\\bar x}&\\frac{\\partial g_1}{\\partial x_2}\\bigg|_{\\bar x}\\\\\\frac{\\partial g_2}{\\partial x_2}\\bigg|_{\\bar x}&\\frac{\\partial g_2}{\\partial x_2}\\bigg|_{\\bar x}\\end{bmatrix} \\begin{bmatrix}x_1'\\\\x_2'\\end{bmatrix}\n",
    "\\end{equation*}"
   ]
  },
  {
   "cell_type": "markdown",
   "metadata": {},
   "source": [
    "Example:     \n",
    "\\begin{equation*}\n",
    "\\begin{gathered}\n",
    "  2 \\frac{dx_1}{dt} + x_1^2 + 3 \\, x_2^2 = 16 \\, u \\hfill \\\\\n",
    "  3 \\frac{dx_2}{dt} + 6 \\, x_1^2 + 6 \\, x_2^2 = 0 \\hfill \\\\ \n",
    "  y_1 = x_2 \\hfill \\\\\n",
    "  y_2 = x_1 \\hfill \\\\\n",
    "  \\bar u = 1, \\quad \\bar x = \\begin{bmatrix}2\\\\2\\end{bmatrix} \\hfill \\\\\n",
    "\\end{gathered}\n",
    "\\end{equation*}       \n",
    "Linearization:       \n",
    "\\begin{equation*}      \n",
    "\\begin{gathered}\n",
    "  \\frac{{d{x_1}}}{{dt}} = {f_1}\\left( {x,u} \\right) =  - 0.5x_1^2 - 1.5x_2^2 + 8u \\Rightarrow {\\left. {\\frac{{\\partial {f_1}}}{{\\partial {x_1}}}} \\right|_{\\bar x,\\bar u}} =  - {x_1} =  - 2,{\\left. {\\frac{{\\partial {f_1}}}{{\\partial {x_2}}}} \\right|_{\\bar x,\\bar u}} =  - 3{x_2} =  - 6 \\hfill \\\\\n",
    "  \\frac{{d{x_2}}}{{dt}} = {f_2}\\left( {x,u} \\right) =  - 2x_1^2 - 2x_2^2 \\Rightarrow {\\left. {\\frac{{\\partial {f_2}}}{{\\partial {x_1}}}} \\right|_{\\bar x,\\bar u}} =  - 4{x_1} =  - 8,{\\left. {\\frac{{\\partial {f_2}}}{{\\partial {x_2}}}} \\right|_{\\bar x,\\bar u}} =  - 4{x_2} \\hfill \\\\ \n",
    "\\end{gathered} \n",
    "\\end{equation*}     \n",
    "Then      \n",
    "\\begin{equation*} \n",
    "\\begin{gathered}\n",
    "  \\left[ {\\begin{array}{*{20}{c}}\n",
    "  {{{\\dot x}_1}} \\\\ \n",
    "  {{{\\dot x}_2}} \n",
    "\\end{array}} \\right] = \\left[ {\\begin{array}{*{20}{c}}\n",
    "  { - 2}&{ - 6} \\\\ \n",
    "  { - 8}&{ - 8} \n",
    "\\end{array}} \\right]\\left[ {\\begin{array}{*{20}{c}}\n",
    "  {{x_1}} \\\\ \n",
    "  {{x_2}} \n",
    "\\end{array}} \\right] + \\left[ {\\begin{array}{*{20}{c}}\n",
    "  8 \\\\ \n",
    "  0 \n",
    "\\end{array}} \\right]u \\hfill \\\\\n",
    "  y = \\left[ {\\begin{array}{*{20}{c}}\n",
    "  0&1 \\\\ \n",
    "  1&0 \n",
    "\\end{array}} \\right]\\left[ {\\begin{array}{*{20}{c}}\n",
    "  {{x_1}} \\\\ \n",
    "  {{x_2}} \n",
    "\\end{array}} \\right] \\hfill \\\\ \n",
    "\\end{gathered} \n",
    "\\end{equation*}   "
   ]
  },
  {
   "cell_type": "code",
   "execution_count": 9,
   "metadata": {},
   "outputs": [
    {
     "name": "stdout",
     "output_type": "stream",
     "text": [
      "[  2.54983444 -12.54983444]\n"
     ]
    }
   ],
   "source": [
    "A = [[-2.0,-6.0],[-8.0,-8.0]]\n",
    "print(np.linalg.eig(A)[0])\n",
    "B = [[8.0],[0.0]]\n",
    "C = [[0.0,1.0],[1.0,0.0]]\n",
    "D = [[0.0],[0.0]]"
   ]
  },
  {
   "cell_type": "code",
   "execution_count": 10,
   "metadata": {},
   "outputs": [
    {
     "data": {
      "text/plain": [
       "[<matplotlib.lines.Line2D at 0x12db5fd0>,\n",
       " <matplotlib.lines.Line2D at 0x12dc01d0>]"
      ]
     },
     "execution_count": 10,
     "metadata": {},
     "output_type": "execute_result"
    },
    {
     "data": {
      "image/png": "[encoded data removed]",
      "text/plain": [
       "<matplotlib.figure.Figure at 0x12d17978>"
      ]
     },
     "metadata": {},
     "output_type": "display_data"
    }
   ],
   "source": [
    "sys4 = signal.StateSpace(A,B,C,D)\n",
    "t4, y4 = signal.step(sys4)\n",
    "plt.plot(t4, y4)"
   ]
  }
 ],
 "metadata": {
  "kernelspec": {
   "display_name": "Python 3",
   "language": "python",
   "name": "python3"
  },
  "language_info": {
   "codemirror_mode": {
    "name": "ipython",
    "version": 3
   },
   "file_extension": ".py",
   "mimetype": "text/x-python",
   "name": "python",
   "nbconvert_exporter": "python",
   "pygments_lexer": "ipython3",
   "version": "3.6.4"
  }
 },
 "nbformat": 4,
 "nbformat_minor": 2
}
